{
 "cells": [
  {
   "cell_type": "code",
   "execution_count": null,
   "id": "b593d27c",
   "metadata": {},
   "outputs": [],
   "source": []
  },
  {
   "cell_type": "code",
   "execution_count": 1,
   "id": "67bf865f",
   "metadata": {},
   "outputs": [],
   "source": [
    "#Area Computation"
   ]
  },
  {
   "cell_type": "code",
   "execution_count": 2,
   "id": "4accff90",
   "metadata": {},
   "outputs": [],
   "source": [
    "import numpy as np\n",
    "import pandas as pd"
   ]
  },
  {
   "cell_type": "code",
   "execution_count": 3,
   "id": "59f5cf15",
   "metadata": {},
   "outputs": [],
   "source": [
    "df = pd.read_csv('C:\\\\Users\\\\Nana Qwasi\\\\Desktop\\\\Tutorials\\\\Programming\\\\Projects\\\\Area Computation.csv')"
   ]
  },
  {
   "cell_type": "code",
   "execution_count": 4,
   "id": "1bcc402a",
   "metadata": {},
   "outputs": [],
   "source": [
    "df['D_left'] = df['C.L.Left'] - df['I.L.Left']"
   ]
  },
  {
   "cell_type": "code",
   "execution_count": 5,
   "id": "c37284d1",
   "metadata": {},
   "outputs": [],
   "source": [
    "df['D_center'] = df['C.L.Center'] - df['I.L.Center']"
   ]
  },
  {
   "cell_type": "code",
   "execution_count": 6,
   "id": "0c072985",
   "metadata": {},
   "outputs": [],
   "source": [
    "df['D-right'] = df['C.L.Right'] - df['I.L.Right']"
   ]
  },
  {
   "cell_type": "code",
   "execution_count": 7,
   "id": "b4bc7a78",
   "metadata": {},
   "outputs": [],
   "source": [
    "df['Average'] = (df['D_left'] + df['D_center'] + df['D-right']) / 3"
   ]
  },
  {
   "cell_type": "code",
   "execution_count": 8,
   "id": "5bef3e11",
   "metadata": {},
   "outputs": [],
   "source": [
    "df['Average'] = df['Average'].round(3)"
   ]
  },
  {
   "cell_type": "code",
   "execution_count": 9,
   "id": "e86998c6",
   "metadata": {},
   "outputs": [],
   "source": [
    "df['mean_D'] = (df['Average'] + df['Average'].shift(1)) / 2"
   ]
  },
  {
   "cell_type": "code",
   "execution_count": 10,
   "id": "9d27abca",
   "metadata": {},
   "outputs": [],
   "source": [
    "df['mean_D'] = df['mean_D'].round(3)"
   ]
  },
  {
   "cell_type": "code",
   "execution_count": 11,
   "id": "ba3f92f9",
   "metadata": {},
   "outputs": [],
   "source": [
    "df['Mean_W'] = (df['Width'] + df['Width'].shift(1))/ 2"
   ]
  },
  {
   "cell_type": "code",
   "execution_count": 12,
   "id": "9006e505",
   "metadata": {},
   "outputs": [],
   "source": [
    "df['Mean_W'] = df['Mean_W'].round(3)"
   ]
  },
  {
   "cell_type": "code",
   "execution_count": 13,
   "id": "53124af9",
   "metadata": {},
   "outputs": [],
   "source": [
    "df['Area'] = (df['Chainage'] - df['Chainage'].shift(1)) * df['Mean_W']"
   ]
  },
  {
   "cell_type": "code",
   "execution_count": 14,
   "id": "d4f20ae5",
   "metadata": {},
   "outputs": [],
   "source": [
    "df['Area'] = df['Area'].round(3)"
   ]
  },
  {
   "cell_type": "code",
   "execution_count": 15,
   "id": "6bb0abac",
   "metadata": {},
   "outputs": [
    {
     "data": {
      "text/html": [
       "<div>\n",
       "<style scoped>\n",
       "    .dataframe tbody tr th:only-of-type {\n",
       "        vertical-align: middle;\n",
       "    }\n",
       "\n",
       "    .dataframe tbody tr th {\n",
       "        vertical-align: top;\n",
       "    }\n",
       "\n",
       "    .dataframe thead th {\n",
       "        text-align: right;\n",
       "    }\n",
       "</style>\n",
       "<table border=\"1\" class=\"dataframe\">\n",
       "  <thead>\n",
       "    <tr style=\"text-align: right;\">\n",
       "      <th></th>\n",
       "      <th>Chainage</th>\n",
       "      <th>I.L.Left</th>\n",
       "      <th>I.L.Center</th>\n",
       "      <th>I.L.Right</th>\n",
       "      <th>C.L.Left</th>\n",
       "      <th>C.L.Center</th>\n",
       "      <th>C.L.Right</th>\n",
       "      <th>Width</th>\n",
       "      <th>D_left</th>\n",
       "      <th>D_center</th>\n",
       "      <th>D-right</th>\n",
       "      <th>Average</th>\n",
       "      <th>mean_D</th>\n",
       "      <th>Mean_W</th>\n",
       "      <th>Area</th>\n",
       "    </tr>\n",
       "  </thead>\n",
       "  <tbody>\n",
       "    <tr>\n",
       "      <th>0</th>\n",
       "      <td>0</td>\n",
       "      <td>305.664</td>\n",
       "      <td>306.046</td>\n",
       "      <td>305.896</td>\n",
       "      <td>305.416</td>\n",
       "      <td>305.622</td>\n",
       "      <td>305.782</td>\n",
       "      <td>9.70</td>\n",
       "      <td>-0.248</td>\n",
       "      <td>-0.424</td>\n",
       "      <td>-0.114</td>\n",
       "      <td>-0.262</td>\n",
       "      <td>NaN</td>\n",
       "      <td>NaN</td>\n",
       "      <td>NaN</td>\n",
       "    </tr>\n",
       "    <tr>\n",
       "      <th>1</th>\n",
       "      <td>25</td>\n",
       "      <td>304.989</td>\n",
       "      <td>305.144</td>\n",
       "      <td>305.490</td>\n",
       "      <td>304.968</td>\n",
       "      <td>305.144</td>\n",
       "      <td>305.256</td>\n",
       "      <td>8.85</td>\n",
       "      <td>-0.021</td>\n",
       "      <td>0.000</td>\n",
       "      <td>-0.234</td>\n",
       "      <td>-0.085</td>\n",
       "      <td>-0.174</td>\n",
       "      <td>9.275</td>\n",
       "      <td>231.875</td>\n",
       "    </tr>\n",
       "    <tr>\n",
       "      <th>2</th>\n",
       "      <td>50</td>\n",
       "      <td>304.245</td>\n",
       "      <td>304.775</td>\n",
       "      <td>304.882</td>\n",
       "      <td>304.245</td>\n",
       "      <td>304.521</td>\n",
       "      <td>304.656</td>\n",
       "      <td>8.32</td>\n",
       "      <td>0.000</td>\n",
       "      <td>-0.254</td>\n",
       "      <td>-0.226</td>\n",
       "      <td>-0.160</td>\n",
       "      <td>-0.122</td>\n",
       "      <td>8.585</td>\n",
       "      <td>214.625</td>\n",
       "    </tr>\n",
       "    <tr>\n",
       "      <th>3</th>\n",
       "      <td>75</td>\n",
       "      <td>304.601</td>\n",
       "      <td>304.708</td>\n",
       "      <td>304.914</td>\n",
       "      <td>304.351</td>\n",
       "      <td>304.687</td>\n",
       "      <td>304.740</td>\n",
       "      <td>8.00</td>\n",
       "      <td>-0.250</td>\n",
       "      <td>-0.021</td>\n",
       "      <td>-0.174</td>\n",
       "      <td>-0.148</td>\n",
       "      <td>-0.154</td>\n",
       "      <td>8.160</td>\n",
       "      <td>204.000</td>\n",
       "    </tr>\n",
       "  </tbody>\n",
       "</table>\n",
       "</div>"
      ],
      "text/plain": [
       "   Chainage  I.L.Left  I.L.Center  I.L.Right  C.L.Left  C.L.Center  C.L.Right  \\\n",
       "0         0   305.664     306.046    305.896   305.416     305.622    305.782   \n",
       "1        25   304.989     305.144    305.490   304.968     305.144    305.256   \n",
       "2        50   304.245     304.775    304.882   304.245     304.521    304.656   \n",
       "3        75   304.601     304.708    304.914   304.351     304.687    304.740   \n",
       "\n",
       "   Width  D_left  D_center  D-right  Average  mean_D  Mean_W     Area  \n",
       "0   9.70  -0.248    -0.424   -0.114   -0.262     NaN     NaN      NaN  \n",
       "1   8.85  -0.021     0.000   -0.234   -0.085  -0.174   9.275  231.875  \n",
       "2   8.32   0.000    -0.254   -0.226   -0.160  -0.122   8.585  214.625  \n",
       "3   8.00  -0.250    -0.021   -0.174   -0.148  -0.154   8.160  204.000  "
      ]
     },
     "execution_count": 15,
     "metadata": {},
     "output_type": "execute_result"
    }
   ],
   "source": [
    "df.head()"
   ]
  },
  {
   "cell_type": "code",
   "execution_count": 18,
   "id": "175c1a6a",
   "metadata": {},
   "outputs": [],
   "source": [
    "new_df = df[['D_left','D_center','D-right','Average','mean_D','Mean_W','Area']]"
   ]
  },
  {
   "cell_type": "code",
   "execution_count": 19,
   "id": "a9fae0c1",
   "metadata": {},
   "outputs": [
    {
     "data": {
      "text/html": [
       "<div>\n",
       "<style scoped>\n",
       "    .dataframe tbody tr th:only-of-type {\n",
       "        vertical-align: middle;\n",
       "    }\n",
       "\n",
       "    .dataframe tbody tr th {\n",
       "        vertical-align: top;\n",
       "    }\n",
       "\n",
       "    .dataframe thead th {\n",
       "        text-align: right;\n",
       "    }\n",
       "</style>\n",
       "<table border=\"1\" class=\"dataframe\">\n",
       "  <thead>\n",
       "    <tr style=\"text-align: right;\">\n",
       "      <th></th>\n",
       "      <th>D_left</th>\n",
       "      <th>D_center</th>\n",
       "      <th>D-right</th>\n",
       "      <th>Average</th>\n",
       "      <th>mean_D</th>\n",
       "      <th>Mean_W</th>\n",
       "      <th>Area</th>\n",
       "    </tr>\n",
       "  </thead>\n",
       "  <tbody>\n",
       "    <tr>\n",
       "      <th>0</th>\n",
       "      <td>-0.248</td>\n",
       "      <td>-0.424</td>\n",
       "      <td>-0.114</td>\n",
       "      <td>-0.262</td>\n",
       "      <td>NaN</td>\n",
       "      <td>NaN</td>\n",
       "      <td>NaN</td>\n",
       "    </tr>\n",
       "    <tr>\n",
       "      <th>1</th>\n",
       "      <td>-0.021</td>\n",
       "      <td>0.000</td>\n",
       "      <td>-0.234</td>\n",
       "      <td>-0.085</td>\n",
       "      <td>-0.174</td>\n",
       "      <td>9.275</td>\n",
       "      <td>231.875</td>\n",
       "    </tr>\n",
       "    <tr>\n",
       "      <th>2</th>\n",
       "      <td>0.000</td>\n",
       "      <td>-0.254</td>\n",
       "      <td>-0.226</td>\n",
       "      <td>-0.160</td>\n",
       "      <td>-0.122</td>\n",
       "      <td>8.585</td>\n",
       "      <td>214.625</td>\n",
       "    </tr>\n",
       "    <tr>\n",
       "      <th>3</th>\n",
       "      <td>-0.250</td>\n",
       "      <td>-0.021</td>\n",
       "      <td>-0.174</td>\n",
       "      <td>-0.148</td>\n",
       "      <td>-0.154</td>\n",
       "      <td>8.160</td>\n",
       "      <td>204.000</td>\n",
       "    </tr>\n",
       "  </tbody>\n",
       "</table>\n",
       "</div>"
      ],
      "text/plain": [
       "   D_left  D_center  D-right  Average  mean_D  Mean_W     Area\n",
       "0  -0.248    -0.424   -0.114   -0.262     NaN     NaN      NaN\n",
       "1  -0.021     0.000   -0.234   -0.085  -0.174   9.275  231.875\n",
       "2   0.000    -0.254   -0.226   -0.160  -0.122   8.585  214.625\n",
       "3  -0.250    -0.021   -0.174   -0.148  -0.154   8.160  204.000"
      ]
     },
     "execution_count": 19,
     "metadata": {},
     "output_type": "execute_result"
    }
   ],
   "source": [
    "new_df.head()"
   ]
  },
  {
   "cell_type": "code",
   "execution_count": 20,
   "id": "50c92c9e",
   "metadata": {},
   "outputs": [],
   "source": [
    "new_df.to_csv('C:\\\\Users\\\\Nana Qwasi\\\\Desktop\\\\Tutorials\\\\Programming\\\\Projects\\\\Area_Computation.csv',index=False)"
   ]
  },
  {
   "cell_type": "code",
   "execution_count": 21,
   "id": "b915faa6",
   "metadata": {},
   "outputs": [],
   "source": [
    "new_df = pd.read_csv('C:\\\\Users\\\\Nana Qwasi\\\\Desktop\\\\Tutorials\\\\Programming\\\\Projects\\\\Area_Computation.csv')"
   ]
  },
  {
   "cell_type": "code",
   "execution_count": 22,
   "id": "063a8a60",
   "metadata": {},
   "outputs": [
    {
     "data": {
      "text/html": [
       "<div>\n",
       "<style scoped>\n",
       "    .dataframe tbody tr th:only-of-type {\n",
       "        vertical-align: middle;\n",
       "    }\n",
       "\n",
       "    .dataframe tbody tr th {\n",
       "        vertical-align: top;\n",
       "    }\n",
       "\n",
       "    .dataframe thead th {\n",
       "        text-align: right;\n",
       "    }\n",
       "</style>\n",
       "<table border=\"1\" class=\"dataframe\">\n",
       "  <thead>\n",
       "    <tr style=\"text-align: right;\">\n",
       "      <th></th>\n",
       "      <th>D_left</th>\n",
       "      <th>D_center</th>\n",
       "      <th>D-right</th>\n",
       "      <th>Average</th>\n",
       "      <th>mean_D</th>\n",
       "      <th>Mean_W</th>\n",
       "      <th>Area</th>\n",
       "    </tr>\n",
       "  </thead>\n",
       "  <tbody>\n",
       "    <tr>\n",
       "      <th>0</th>\n",
       "      <td>-0.248</td>\n",
       "      <td>-0.424</td>\n",
       "      <td>-0.114</td>\n",
       "      <td>-0.262</td>\n",
       "      <td>NaN</td>\n",
       "      <td>NaN</td>\n",
       "      <td>NaN</td>\n",
       "    </tr>\n",
       "    <tr>\n",
       "      <th>1</th>\n",
       "      <td>-0.021</td>\n",
       "      <td>0.000</td>\n",
       "      <td>-0.234</td>\n",
       "      <td>-0.085</td>\n",
       "      <td>-0.174</td>\n",
       "      <td>9.275</td>\n",
       "      <td>231.875</td>\n",
       "    </tr>\n",
       "    <tr>\n",
       "      <th>2</th>\n",
       "      <td>0.000</td>\n",
       "      <td>-0.254</td>\n",
       "      <td>-0.226</td>\n",
       "      <td>-0.160</td>\n",
       "      <td>-0.122</td>\n",
       "      <td>8.585</td>\n",
       "      <td>214.625</td>\n",
       "    </tr>\n",
       "    <tr>\n",
       "      <th>3</th>\n",
       "      <td>-0.250</td>\n",
       "      <td>-0.021</td>\n",
       "      <td>-0.174</td>\n",
       "      <td>-0.148</td>\n",
       "      <td>-0.154</td>\n",
       "      <td>8.160</td>\n",
       "      <td>204.000</td>\n",
       "    </tr>\n",
       "  </tbody>\n",
       "</table>\n",
       "</div>"
      ],
      "text/plain": [
       "   D_left  D_center  D-right  Average  mean_D  Mean_W     Area\n",
       "0  -0.248    -0.424   -0.114   -0.262     NaN     NaN      NaN\n",
       "1  -0.021     0.000   -0.234   -0.085  -0.174   9.275  231.875\n",
       "2   0.000    -0.254   -0.226   -0.160  -0.122   8.585  214.625\n",
       "3  -0.250    -0.021   -0.174   -0.148  -0.154   8.160  204.000"
      ]
     },
     "execution_count": 22,
     "metadata": {},
     "output_type": "execute_result"
    }
   ],
   "source": [
    "new_df.head()"
   ]
  },
  {
   "cell_type": "code",
   "execution_count": null,
   "id": "bc4b063b",
   "metadata": {},
   "outputs": [],
   "source": []
  }
 ],
 "metadata": {
  "kernelspec": {
   "display_name": "Python 3 (ipykernel)",
   "language": "python",
   "name": "python3"
  },
  "language_info": {
   "codemirror_mode": {
    "name": "ipython",
    "version": 3
   },
   "file_extension": ".py",
   "mimetype": "text/x-python",
   "name": "python",
   "nbconvert_exporter": "python",
   "pygments_lexer": "ipython3",
   "version": "3.10.9"
  }
 },
 "nbformat": 4,
 "nbformat_minor": 5
}
